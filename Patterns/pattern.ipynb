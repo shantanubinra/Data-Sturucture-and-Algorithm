{
 "cells": [
  {
   "cell_type": "code",
   "execution_count": 29,
   "id": "12d9c607",
   "metadata": {},
   "outputs": [],
   "source": [
    "### Questionare Source: https://takeuforward.org/strivers-a2z-dsa-course/must-do-pattern-problems-before-starting-dsa/"
   ]
  },
  {
   "cell_type": "code",
   "execution_count": 3,
   "id": "c0fe4a8f",
   "metadata": {},
   "outputs": [
    {
     "name": "stdout",
     "output_type": "stream",
     "text": [
      "*****\n",
      "*****\n",
      "*****\n",
      "*****\n",
      "*****\n"
     ]
    }
   ],
   "source": [
    "def square_pattern(n):\n",
    "    for i in range(n):\n",
    "        print(\"*\"*n)\n",
    "        \n",
    "square_pattern(5)\n",
    "# print(\"====================================================================================\")"
   ]
  },
  {
   "cell_type": "code",
   "execution_count": 4,
   "id": "2159e796",
   "metadata": {},
   "outputs": [
    {
     "name": "stdout",
     "output_type": "stream",
     "text": [
      "\n",
      "*\n",
      "**\n",
      "***\n",
      "****\n",
      "*****\n"
     ]
    }
   ],
   "source": [
    "def right_angle_triangle(n):\n",
    "    for i in range((n+1)):\n",
    "        print(i*\"*\")\n",
    "\n",
    "right_angle_triangle(5)\n",
    "# print(\"right_angle_triangle====================================================================================\")"
   ]
  },
  {
   "cell_type": "code",
   "execution_count": 5,
   "id": "19b2e6c1",
   "metadata": {},
   "outputs": [
    {
     "name": "stdout",
     "output_type": "stream",
     "text": [
      "1\n",
      "12\n",
      "123\n",
      "1234\n",
      "12345\n"
     ]
    }
   ],
   "source": [
    "def right_angle_triangle_number(n):\n",
    "    for i in range(1,(n+1)):\n",
    "        for j in range(1,i+1):\n",
    "            print(j,end=\"\")\n",
    "        print()\n",
    "\n",
    "right_angle_triangle_number(5)"
   ]
  },
  {
   "cell_type": "code",
   "execution_count": 6,
   "id": "8c894151",
   "metadata": {},
   "outputs": [
    {
     "name": "stdout",
     "output_type": "stream",
     "text": [
      "\n",
      "1\n",
      "22\n",
      "333\n",
      "4444\n",
      "55555\n"
     ]
    }
   ],
   "source": [
    "def right_angle_triangle_number_repeat(n):\n",
    "    for i in range((n+1)):\n",
    "        print(f\"{i}\"*i)\n",
    "\n",
    "right_angle_triangle_number_repeat(5)\n"
   ]
  },
  {
   "cell_type": "code",
   "execution_count": 7,
   "id": "87777cc3",
   "metadata": {},
   "outputs": [
    {
     "name": "stdout",
     "output_type": "stream",
     "text": [
      "******\n",
      "*****\n",
      "****\n",
      "***\n",
      "**\n",
      "*\n"
     ]
    }
   ],
   "source": [
    "def inverse_right_angle_triangle(n):\n",
    "    for i in range((n+1),0,-1):\n",
    "        print(i*\"*\")\n",
    "\n",
    "inverse_right_angle_triangle(5)\n",
    "# print(\"====================================================================================\")"
   ]
  },
  {
   "cell_type": "code",
   "execution_count": 8,
   "id": "6aed1b9d",
   "metadata": {},
   "outputs": [
    {
     "name": "stdout",
     "output_type": "stream",
     "text": [
      "12345\n",
      "1234\n",
      "123\n",
      "12\n",
      "1\n",
      "\n"
     ]
    }
   ],
   "source": [
    "def inverse_right_angle_triangle_number(n):\n",
    "    for i in range((n+1),0,-1):\n",
    "        for j in range(1,i):\n",
    "            print(j,end=\"\")\n",
    "        print()\n",
    "\n",
    "inverse_right_angle_triangle_number(5)\n",
    "# print(\"====================================================================================\")"
   ]
  },
  {
   "cell_type": "code",
   "execution_count": 9,
   "id": "96144005",
   "metadata": {},
   "outputs": [
    {
     "name": "stdout",
     "output_type": "stream",
     "text": [
      "    *\n",
      "   ***\n",
      "  *****\n",
      " *******\n",
      "*********\n"
     ]
    }
   ],
   "source": [
    "def euqilateral_angle_triangle(n):\n",
    "    for i in range(1,n+1):\n",
    "        print(\" \"*(n-i)+\"*\"*int((2*i)-1))\n",
    "\n",
    "euqilateral_angle_triangle(5)\n",
    "# print(\"euqilateral_angle_triangle====================================================================================\")"
   ]
  },
  {
   "cell_type": "code",
   "execution_count": 26,
   "id": "0c304df0",
   "metadata": {},
   "outputs": [
    {
     "name": "stdout",
     "output_type": "stream",
     "text": [
      "*********\n",
      " *******\n",
      "  *****\n",
      "   ***\n",
      "    *\n"
     ]
    }
   ],
   "source": [
    "def equilateral_angle_triangle_reverse(n):\n",
    "    for i in range((n),0,-1):\n",
    "        print(\" \"*(n-i)+\"*\"*int((2*i)-1))\n",
    "\n",
    "equilateral_angle_triangle_reverse(5)\n",
    "# print(\"====================================================================================\")"
   ]
  },
  {
   "cell_type": "code",
   "execution_count": 28,
   "id": "c2ed6e97",
   "metadata": {},
   "outputs": [
    {
     "name": "stdout",
     "output_type": "stream",
     "text": [
      "    *\n",
      "   ***\n",
      "  *****\n",
      " *******\n",
      "*********\n",
      "*********\n",
      " *******\n",
      "  *****\n",
      "   ***\n",
      "    *\n"
     ]
    }
   ],
   "source": [
    "def combined_triangle(n):\n",
    "    euqilateral_angle_triangle(n)\n",
    "    equilateral_angle_triangle_reverse(n)\n",
    "\n",
    "combined_triangle(5)\n",
    "# print(\"====================================================================================\")"
   ]
  },
  {
   "cell_type": "code",
   "execution_count": 12,
   "id": "d614dfc9",
   "metadata": {},
   "outputs": [
    {
     "name": "stdout",
     "output_type": "stream",
     "text": [
      "\n",
      "*\n",
      "**\n",
      "***\n",
      "****\n",
      "*****\n",
      "******\n",
      "*****\n",
      "****\n",
      "***\n",
      "**\n",
      "*\n"
     ]
    }
   ],
   "source": [
    "def right_roated_pyramid(n):\n",
    "    right_angle_triangle(n)\n",
    "    inverse_right_angle_triangle(n)\n",
    "\n",
    "\n",
    "right_roated_pyramid(5)\n",
    "# print(\"====================================================================================\")"
   ]
  },
  {
   "cell_type": "code",
   "execution_count": 13,
   "id": "3928c0f4",
   "metadata": {},
   "outputs": [
    {
     "name": "stdout",
     "output_type": "stream",
     "text": [
      "0\n",
      "10\n",
      "010\n",
      "1010\n"
     ]
    }
   ],
   "source": [
    "def pattern_11(n):\n",
    "    string_pattern =\"10\"*n\n",
    "    counter=0\n",
    "    for i in range(1,n):\n",
    "        \n",
    "        if i%2==1: end=i+1\n",
    "        print(f\"{string_pattern[i%2:end]}\")\n",
    "        \n",
    "pattern_11(5)\n",
    "# print(\"pattern11====================================================================================\")"
   ]
  },
  {
   "cell_type": "code",
   "execution_count": 15,
   "id": "7ed4c604",
   "metadata": {},
   "outputs": [
    {
     "name": "stdout",
     "output_type": "stream",
     "text": [
      "1 . . . . . .  1 \n",
      "1 2 . . . .  2 1 \n",
      "1 2 3 . .  3 2 1 \n",
      "1 2 3 4  4 3 2 1 \n"
     ]
    }
   ],
   "source": [
    "def pattern_12(n):\n",
    "    for i in range(1,n+1):\n",
    "\n",
    "        for j in range(1,i+1):\n",
    "            print(j,end=\" \")\n",
    "        print(\". \"*2*(n-i),end=\" \")\n",
    "        for j in range(i,0,-1):\n",
    "            print(j,end=\" \")\n",
    "        \n",
    "        print()\n",
    "pattern_12(4)\n",
    "# print(\"pattern12====================================================================================\")"
   ]
  },
  {
   "cell_type": "code",
   "execution_count": 16,
   "id": "3139601a",
   "metadata": {},
   "outputs": [
    {
     "name": "stdout",
     "output_type": "stream",
     "text": [
      "1 \n",
      "2 3 \n",
      "4 5 6 \n",
      "7 8 9 10 \n",
      "11 12 13 14 15 \n"
     ]
    }
   ],
   "source": [
    "def pattern13(n):\n",
    "    counter=1\n",
    "    for i in range(1,n+1):\n",
    "        for j in range(1,i+1):\n",
    "            print(counter,end=\" \")\n",
    "            counter+=1\n",
    "        print()\n",
    "\n",
    "pattern13(5)\n",
    "        \n",
    "# print(\"pattern13====================================================================================\")"
   ]
  },
  {
   "cell_type": "code",
   "execution_count": 17,
   "id": "d907291b",
   "metadata": {},
   "outputs": [
    {
     "name": "stdout",
     "output_type": "stream",
     "text": [
      "A\n",
      "AB\n",
      "ABC\n",
      "ABCD\n"
     ]
    }
   ],
   "source": [
    "def pattern14(n):\n",
    "    for i in range(1, n):\n",
    "        for j in range(65, 65+i):\n",
    "            a = chr(j)\n",
    "            print(a, end=\"\")\n",
    "        print()\n",
    "\n",
    "pattern14(5)\n",
    "\n",
    "# print(\"pattern14====================================================================================\")"
   ]
  },
  {
   "cell_type": "code",
   "execution_count": 18,
   "id": "137fdd54",
   "metadata": {},
   "outputs": [
    {
     "name": "stdout",
     "output_type": "stream",
     "text": [
      "ABCDE\n",
      "ABCD\n",
      "ABC\n",
      "AB\n",
      "A\n"
     ]
    }
   ],
   "source": [
    "def pattern15(n):\n",
    "    for i in range(n,0,-1):\n",
    "        for j in range(65, 65+i):\n",
    "            a = chr(j)\n",
    "            print(a, end=\"\")\n",
    "        print()\n",
    "\n",
    "pattern15(5)\n",
    "\n",
    "# print(\"pattern15====================================================================================\")"
   ]
  },
  {
   "cell_type": "code",
   "execution_count": 19,
   "id": "2d820137",
   "metadata": {},
   "outputs": [
    {
     "name": "stdout",
     "output_type": "stream",
     "text": [
      "A\n",
      "BB\n",
      "CCC\n",
      "DDDD\n"
     ]
    }
   ],
   "source": [
    "def pattern16(n):\n",
    "    character=65\n",
    "    for i in range(1,n):\n",
    "        \n",
    "        print(f\"{chr(character)}\"*i)\n",
    "        character+=1\n",
    "\n",
    "pattern16(5)\n",
    "\n",
    "# print(\"pattern16====================================================================================\")"
   ]
  },
  {
   "cell_type": "code",
   "execution_count": 20,
   "id": "c885dd08",
   "metadata": {},
   "outputs": [
    {
     "name": "stdout",
     "output_type": "stream",
     "text": [
      "    A\n",
      "   ABA\n",
      "  ABCBA\n",
      " ABCDCBA\n"
     ]
    }
   ],
   "source": [
    "def pattern17(n):\n",
    "    # def euqilateral_angle_triangle(n):\n",
    "    # for i in range(1,n+1):\n",
    "    #     print(\" \"*(n-i)+\"*\"*int((2*i)-1))\n",
    "\n",
    "    for i in range(1,n):\n",
    "        print(\" \"*(n-i),end=\"\")\n",
    "        for j in range(65,65+i):\n",
    "        #     print(f\"{j}\",end=\"\")\n",
    "            print(f\"{chr(j)}\",end=\"\")\n",
    "        for j in range(65+i-2,64,-1):\n",
    "            # print(f\"{j}\",end=\"\")\n",
    "            print(f\"{chr(j)}\",end=\"\")\n",
    "        print()\n",
    "\n",
    "pattern17(5)\n",
    "\n",
    "# print(\"pattern17====================================================================================\")"
   ]
  },
  {
   "cell_type": "code",
   "execution_count": 21,
   "id": "9ae64273",
   "metadata": {},
   "outputs": [
    {
     "name": "stdout",
     "output_type": "stream",
     "text": [
      "E\n",
      "DE\n",
      "CDE\n",
      "BCDE\n",
      "ABCDE\n"
     ]
    }
   ],
   "source": [
    "def pattern18(n):\n",
    "\n",
    "    for i in range(1,n+1):\n",
    "\n",
    "        for j in range(65+n-i,65+n):\n",
    "            print(f\"{chr(j)}\",end=\"\")\n",
    "        print()\n",
    "\n",
    "pattern18(5)\n",
    "\n",
    "# print(\"pattern18====================================================================================\")"
   ]
  },
  {
   "cell_type": "code",
   "execution_count": 22,
   "id": "29401432",
   "metadata": {},
   "outputs": [
    {
     "name": "stdout",
     "output_type": "stream",
     "text": [
      "**********\n",
      "****..****\n",
      "***....***\n",
      "**......**\n",
      "*........*\n",
      "*........*\n",
      "**......**\n",
      "***....***\n",
      "****..****\n",
      "**********\n"
     ]
    }
   ],
   "source": [
    "def pattern19(n):\n",
    "    for i in range(n,0,-1):\n",
    "        print(i*\"*\"+\"..\"*(n-i)+i*\"*\")\n",
    "    for j in range(1,n+1):\n",
    "        print(j*\"*\"+\"..\"*(n-j)+j*\"*\")\n",
    "pattern19(5)\n",
    "\n",
    "# print(\"pattern19====================================================================================\")"
   ]
  },
  {
   "cell_type": "code",
   "execution_count": 23,
   "id": "6cb66f82",
   "metadata": {},
   "outputs": [
    {
     "name": "stdout",
     "output_type": "stream",
     "text": [
      "* ........ *\n",
      "** ...... **\n",
      "*** .... ***\n",
      "**** .. ****\n",
      "*****  *****\n",
      "*****  *****\n",
      "**** .. ****\n",
      "*** .... ***\n",
      "** ...... **\n",
      "* ........ *\n"
     ]
    }
   ],
   "source": [
    "def pattern20(n):\n",
    "    for i in range(1,n+1):\n",
    "        print(i*\"*\",2*(n-i)*\".\",i*\"*\")\n",
    "    for j in range(n,0,-1):\n",
    "        print(j*\"*\",2*(n-j)*\".\",j*\"*\")\n",
    "pattern20(5)\n",
    "\n",
    "# print(\"pattern20====================================================================================\")"
   ]
  },
  {
   "cell_type": "code",
   "execution_count": 25,
   "id": "849dbf16",
   "metadata": {},
   "outputs": [
    {
     "name": "stdout",
     "output_type": "stream",
     "text": [
      "* * * * * \n",
      "*      *\n",
      "*      *\n",
      "*      *\n",
      "* * * * * \n"
     ]
    }
   ],
   "source": [
    "def pattern21(n):\n",
    "    for i in range(1,n+1):\n",
    "        if i==1 or i==n:\n",
    "            print(\"* \"*n)\n",
    "        else:\n",
    "            print(\"* \",\" \"*(n-2),\"*\")\n",
    "pattern21(5)\n"
   ]
  },
  {
   "cell_type": "code",
   "execution_count": null,
   "id": "126409db",
   "metadata": {},
   "outputs": [],
   "source": []
  }
 ],
 "metadata": {
  "kernelspec": {
   "display_name": "Python 3 (ipykernel)",
   "language": "python",
   "name": "python3"
  },
  "language_info": {
   "codemirror_mode": {
    "name": "ipython",
    "version": 3
   },
   "file_extension": ".py",
   "mimetype": "text/x-python",
   "name": "python",
   "nbconvert_exporter": "python",
   "pygments_lexer": "ipython3",
   "version": "3.9.13"
  }
 },
 "nbformat": 4,
 "nbformat_minor": 5
}
